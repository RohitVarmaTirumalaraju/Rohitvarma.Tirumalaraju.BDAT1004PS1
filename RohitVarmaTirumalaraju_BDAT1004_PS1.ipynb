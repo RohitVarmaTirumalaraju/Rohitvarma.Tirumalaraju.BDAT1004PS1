{
 "cells": [
  {
   "cell_type": "code",
   "execution_count": 4,
   "id": "8fd7d7ef",
   "metadata": {},
   "outputs": [
    {
     "name": "stdout",
     "output_type": "stream",
     "text": [
      "<class 'int'>\n",
      "<class 'float'>\n",
      "<class 'bool'>\n",
      "<class 'str'>\n",
      "<class 'int'>\n",
      "<class 'str'>\n",
      "<class 'str'>\n",
      "<class 'float'>\n",
      "<class 'int'>\n",
      "<class 'set'>\n",
      "<class 'bool'>\n",
      "<class 'float'>\n"
     ]
    }
   ],
   "source": [
    "#Question1\n",
    "\n",
    "import math\n",
    "print(type(5))\n",
    "print(type(5.0))\n",
    "print(type(5>1))\n",
    "print(type('5'))\n",
    "print(type(5*2))\n",
    "print(type('5'*2))\n",
    "print(type('5'+'2'))\n",
    "print(type(5/2))\n",
    "print(type(5%2))\n",
    "print(type({5,2,1}))\n",
    "print(type(5==3))\n",
    "print(type(math.pi))\n"
   ]
  },
  {
   "cell_type": "code",
   "execution_count": 5,
   "id": "d73ed911",
   "metadata": {},
   "outputs": [
    {
     "data": {
      "text/plain": [
       "34"
      ]
     },
     "execution_count": 5,
     "metadata": {},
     "output_type": "execute_result"
    }
   ],
   "source": [
    "#Question 2\n",
    "#2a.\n",
    "len('Supercalifragilisticexpialidocious')"
   ]
  },
  {
   "cell_type": "code",
   "execution_count": 7,
   "id": "070bbaa0",
   "metadata": {},
   "outputs": [
    {
     "name": "stdout",
     "output_type": "stream",
     "text": [
      "substring \"ice\" found\n"
     ]
    }
   ],
   "source": [
    "#2b.\n",
    "string = 'Supercalifragilisticexpialidocious'\n",
    "if 'ice' in string:\n",
    "    print('substring \"ice\" found')\n",
    "else:\n",
    "    print('substring \"ice\" not found')"
   ]
  },
  {
   "cell_type": "code",
   "execution_count": 10,
   "id": "edb02721",
   "metadata": {},
   "outputs": [
    {
     "name": "stdout",
     "output_type": "stream",
     "text": [
      "Supercalifragilisticexpialidociousis the longest string\n"
     ]
    }
   ],
   "source": [
    "#2c.\n",
    "\n",
    "string1='Supercalifragilisticexpialidocious'\n",
    "string2='Honorificabilitudinitatibus'\n",
    "string3='Bababadalgharaghtakamminarronnkonn'\n",
    "\n",
    "len(string1)\n",
    "len(string2)\n",
    "len(string3)\n",
    "\n",
    "print(max(string1,string2,string3) + 'is the longest string')"
   ]
  },
  {
   "cell_type": "code",
   "execution_count": 13,
   "id": "e381b2e5",
   "metadata": {},
   "outputs": [
    {
     "name": "stdout",
     "output_type": "stream",
     "text": [
      "The first and last composers in the list are:('Barodin', 'Buxtehude')\n"
     ]
    }
   ],
   "source": [
    "#2d.\n",
    "\n",
    "lst =['Berlioz','Barodin','Brian','Bartok','Bellini','Buxtehude','Bernstein']\n",
    "lst.sort()\n",
    "fnl=(lst[0],lst[-1])\n",
    "print(\"The first and last composers in the list are:\" + str(fnl) )\n",
    "\n",
    "#reference: https://www.geeksforgeeks.org/python-get-first-and-last-elements-of-a-list/"
   ]
  },
  {
   "cell_type": "code",
   "execution_count": 20,
   "id": "6fe842aa",
   "metadata": {},
   "outputs": [
    {
     "name": "stdout",
     "output_type": "stream",
     "text": [
      "Enter side 1 of triangle:2\n",
      "Enter side 2 of triangle:2\n",
      "Enter side 3 of triangle:2\n",
      "The Triangle area is:1.7320508075688772\n"
     ]
    }
   ],
   "source": [
    "#Question 3\n",
    "a=int(input(\"Enter side 1 of triangle:\"))\n",
    "b=int(input(\"Enter side 2 of triangle:\"))\n",
    "c=int(input(\"Enter side 3 of triangle:\"))\n",
    "def tri_area(a,b,c):\n",
    "    s=(a+b+c)/2\n",
    "    area=(s*(s-a)*(s-b)*(s-c))**0.5\n",
    "    print(\"The Triangle area is:\" + str(area))\n",
    "tri_area(a,b,c)"
   ]
  },
  {
   "cell_type": "code",
   "execution_count": 13,
   "id": "3fe0ea0b",
   "metadata": {},
   "outputs": [
    {
     "name": "stdout",
     "output_type": "stream",
     "text": [
      "Input the number of elements to be stored in the array: 5\n",
      "25\n",
      "47\n",
      "42\n",
      "56\n",
      "32\n",
      "The list of even numbers are: [42, 56, 32]\n",
      "The list of odd numbers are: [25, 47]\n"
     ]
    }
   ],
   "source": [
    "#Question 4\n",
    "\n",
    "numlist = []\n",
    "n = int(input(\"Input the number of elements to be stored in the array: \"))\n",
    "for i in range(0,n):\n",
    "    element=int(input())\n",
    "    numlist.append(element)\n",
    "evenlist=[]\n",
    "oddlist=[]\n",
    "for j in numlist:\n",
    "    if (j%2==0):\n",
    "        evenlist.append(j)\n",
    "    else:\n",
    "        oddlist.append(j)\n",
    "print(\"The list of even numbers are:\",evenlist)\n",
    "print(\"The list of odd numbers are:\",oddlist)"
   ]
  },
  {
   "cell_type": "code",
   "execution_count": 9,
   "id": "a0998a48",
   "metadata": {},
   "outputs": [
    {
     "name": "stdout",
     "output_type": "stream",
     "text": [
      "enter x:1\n",
      "enter y:1\n",
      "enter x1:0\n",
      "enter y1:0\n",
      "enter x2:2\n",
      "enter y2:3\n",
      "inside(1,1,0,0,2,3) True\n"
     ]
    }
   ],
   "source": [
    "# Question 5\n",
    "#5a.part 1\n",
    "\n",
    "x=int(input(\"enter x:\"))\n",
    "y=int(input(\"enter y:\"))\n",
    "x1=int(input(\"enter x1:\"))\n",
    "y1=int(input(\"enter y1:\"))\n",
    "x2=int(input(\"enter x2:\"))\n",
    "y2=int(input(\"enter y2:\"))\n",
    "def inside(x,y,x1,y1,x2,y2):\n",
    "    if (x > x1 and x < x2 and\n",
    "        y > y1 and y < y2) :\n",
    "        print(\"inside(\"+ str(x)+ \",\" + str(y) + \",\" + str(x1) + \",\" + str(y1) + \",\" + str(x2) + \",\" + str(y2) +\") True\") \n",
    "    else :\n",
    "        print(\"inside(\"+ str(x)+ \",\" + str(y) + \",\" + str(x1) + \",\" + str(y1) + \",\" + str(x2) + \",\" + str(y2) +\") False\") \n",
    "inside(x,y,x1,y1,x2,y2)"
   ]
  },
  {
   "cell_type": "code",
   "execution_count": 10,
   "id": "7f657b25",
   "metadata": {},
   "outputs": [
    {
     "name": "stdout",
     "output_type": "stream",
     "text": [
      "enter x:-1\n",
      "enter y:-1\n",
      "enter x1:0\n",
      "enter y1:0\n",
      "enter x2:2\n",
      "enter y2:3\n",
      "inside(-1,-1,0,0,2,3) False\n"
     ]
    }
   ],
   "source": [
    "# Question 5\n",
    "#5a.part 2\n",
    "\n",
    "x=int(input(\"enter x:\"))\n",
    "y=int(input(\"enter y:\"))\n",
    "x1=int(input(\"enter x1:\"))\n",
    "y1=int(input(\"enter y1:\"))\n",
    "x2=int(input(\"enter x2:\"))\n",
    "y2=int(input(\"enter y2:\"))\n",
    "def inside(x,y,x1,y1,x2,y2):\n",
    "    if (x > x1 and x < x2 and\n",
    "        y > y1 and y < y2) :\n",
    "        print(\"inside(\"+ str(x)+ \",\" + str(y) + \",\" + str(x1) + \",\" + str(y1) + \",\" + str(x2) + \",\" + str(y2) +\") True\") \n",
    "    else :\n",
    "        print(\"inside(\"+ str(x)+ \",\" + str(y) + \",\" + str(x1) + \",\" + str(y1) + \",\" + str(x2) + \",\" + str(y2) +\") False\") \n",
    "inside(x,y,x1,y1,x2,y2)"
   ]
  },
  {
   "cell_type": "code",
   "execution_count": 14,
   "id": "3e23844a",
   "metadata": {},
   "outputs": [
    {
     "name": "stdout",
     "output_type": "stream",
     "text": [
      "enter x1:.3\n",
      "enter y1:.5\n",
      "enter x2:1.1\n",
      "enter y2:.7\n",
      "point does not lie in the rectangle\n"
     ]
    }
   ],
   "source": [
    "# 5b.\n",
    "def inside2():\n",
    "    x=1\n",
    "    y=1\n",
    "    x1=float(input(\"enter x1:\"))\n",
    "    y1=float(input(\"enter y1:\"))\n",
    "    x2=float(input(\"enter x2:\"))\n",
    "    y2=float(input(\"enter y2:\"))\n",
    "    if(x>x1 and x<x2 and y>y1 and y<y2):\n",
    "        print(\"point lie in the rectangle\")\n",
    "    else:\n",
    "        print(\"point does not lie in the rectangle\")\n",
    "    \n",
    "inside2()\n"
   ]
  },
  {
   "cell_type": "code",
   "execution_count": 13,
   "id": "e9b56127",
   "metadata": {},
   "outputs": [
    {
     "name": "stdout",
     "output_type": "stream",
     "text": [
      "enter x1:.5\n",
      "enter y1:.2\n",
      "enter x2:1.1\n",
      "enter y2:2\n",
      "point lies in the rectangle\n"
     ]
    }
   ],
   "source": [
    "\n",
    "def inside2():\n",
    "    x=1\n",
    "    y=1\n",
    "    x1=float(input(\"enter x1:\"))\n",
    "    y1=float(input(\"enter y1:\"))\n",
    "    x2=float(input(\"enter x2:\"))\n",
    "    y2=float(input(\"enter y2:\"))\n",
    "    if(x>x1 and x<x2 and y>y1 and y<y2):\n",
    "        print(\"point lies in the rectangle\")\n",
    "    else:\n",
    "        print(\"point does not lie in the rectangle\")\n",
    "    \n",
    "inside2()\n"
   ]
  },
  {
   "cell_type": "code",
   "execution_count": 4,
   "id": "8dc7b17c",
   "metadata": {},
   "outputs": [
    {
     "name": "stdout",
     "output_type": "stream",
     "text": [
      "appyay\n",
      "enterway\n"
     ]
    }
   ],
   "source": [
    "#Question6\n",
    "\n",
    "def pig(usrstr):\n",
    "    string = usrstr\n",
    "    vowels = ['a','e','i','o','u','A','E','I','O','U']\n",
    "    if  string[0] not in vowels:\n",
    "        pigL = string[1:].lower() + \"ay\"\n",
    "        print(pigL)\n",
    "    else:\n",
    "        pigV = string.lower() + \"way\"\n",
    "        print(pigV)\n",
    "pig('happy')\n",
    "pig('Enter')"
   ]
  },
  {
   "cell_type": "code",
   "execution_count": 1,
   "id": "849577d6",
   "metadata": {},
   "outputs": [
    {
     "name": "stdout",
     "output_type": "stream",
     "text": [
      "Bloodcount('bloodtype.txt')\n",
      "There are 15 patients with blood type A\n",
      "There are 13 patients with blood type AB\n",
      "There are 15 patients with blood type O\n",
      "There is 1 patients with blood type B\n",
      "There are no patients with blood type OO\n"
     ]
    }
   ],
   "source": [
    "#Question 7\n",
    "\n",
    "def Bloodcount():\n",
    "    \n",
    "    file = open(\"C:\\\\Users\\\\rohit\\\\Downloads\\\\Bloodtype1.txt\", \"r\")\n",
    "    bloodtype = file.read()\n",
    "    lst = bloodtype.split(\" \")\n",
    "    bloodtypelst = [\"A\",\"AB\",\"O\",\"B\", \"OO\"]\n",
    "    print(\"Bloodcount('bloodtype.txt')\")\n",
    "    for bt in bloodtypelst:\n",
    "        if lst.count(bt)>1:\n",
    "            print(\"There are \" + str(lst.count(bt)) + \" patients with blood type \" + bt)\n",
    "        else:\n",
    "            if lst.count(bt)== 1:\n",
    "                print(\"There is \" + str(lst.count(bt)) + \" patients with blood type \" + bt)\n",
    "            else:\n",
    "                print(\"There are no patients with blood type \" + bt)\n",
    "                   \n",
    "Bloodcount()"
   ]
  },
  {
   "cell_type": "code",
   "execution_count": 13,
   "id": "ae44f11f",
   "metadata": {},
   "outputs": [
    {
     "name": "stdout",
     "output_type": "stream",
     "text": [
      "currencyconv('EUR', 100) \n",
      " 122.96544\n",
      "currencyconv('JPY', 100) \n",
      " 1.241401\n"
     ]
    }
   ],
   "source": [
    "#Question 8:\n",
    "def currencyconv(curr,amt):\n",
    "    Fcurr = open(\"C:\\\\Users\\\\rohit\\\\Downloads\\\\currencies.txt\", \"r\")\n",
    "    listData = Fcurr.readlines() \n",
    "    Fcurr.close()\n",
    "    for var in listData:\n",
    "        if curr in var:\n",
    "            currencyLine = var\n",
    "            chosenCur = currencyLine.split(\"\\t\")\n",
    "            currvalue = chosenCur[1]\n",
    "            convAmt = float(currvalue) * float(amt)\n",
    "            return convAmt\n",
    "        \n",
    "\n",
    "convertedAmount = currencyconv('EUR',100)\n",
    "convertedAmount2 = currencyconv('JPY',100)\n",
    "print(\"currencyconv('EUR', 100) \\n {}\".format(convertedAmount))\n",
    "print(\"currencyconv('JPY', 100) \\n {}\".format(convertedAmount2))"
   ]
  },
  {
   "cell_type": "code",
   "execution_count": 14,
   "id": "be905678",
   "metadata": {},
   "outputs": [
    {
     "ename": "TypeError",
     "evalue": "unsupported operand type(s) for +: 'int' and 'str'",
     "output_type": "error",
     "traceback": [
      "\u001b[1;31m---------------------------------------------------------------------------\u001b[0m",
      "\u001b[1;31mTypeError\u001b[0m                                 Traceback (most recent call last)",
      "\u001b[1;32m~\\AppData\\Local\\Temp/ipykernel_12808/699564477.py\u001b[0m in \u001b[0;36m<module>\u001b[1;34m\u001b[0m\n\u001b[0;32m      3\u001b[0m \u001b[1;31m#a: Trying to add incompatible variables, as in adding 6 + ‘a’\u001b[0m\u001b[1;33m\u001b[0m\u001b[1;33m\u001b[0m\u001b[0m\n\u001b[0;32m      4\u001b[0m \u001b[1;31m#ans: Type error\u001b[0m\u001b[1;33m\u001b[0m\u001b[1;33m\u001b[0m\u001b[0m\n\u001b[1;32m----> 5\u001b[1;33m \u001b[1;36m6\u001b[0m \u001b[1;33m+\u001b[0m \u001b[1;34m'a'\u001b[0m\u001b[1;33m\u001b[0m\u001b[1;33m\u001b[0m\u001b[0m\n\u001b[0m\u001b[0;32m      6\u001b[0m \u001b[1;33m\u001b[0m\u001b[0m\n\u001b[0;32m      7\u001b[0m \u001b[1;31m#above code execution gives type error\u001b[0m\u001b[1;33m\u001b[0m\u001b[1;33m\u001b[0m\u001b[0m\n",
      "\u001b[1;31mTypeError\u001b[0m: unsupported operand type(s) for +: 'int' and 'str'"
     ]
    }
   ],
   "source": [
    "#Question 9:\n",
    "\n",
    "#a: Trying to add incompatible variables, as in adding 6 + ‘a’\n",
    "#ans: Type error\n",
    "6 + 'a'\n"
   ]
  },
  {
   "cell_type": "code",
   "execution_count": 15,
   "id": "568414cb",
   "metadata": {},
   "outputs": [
    {
     "ename": "IndexError",
     "evalue": "list index out of range",
     "output_type": "error",
     "traceback": [
      "\u001b[1;31m---------------------------------------------------------------------------\u001b[0m",
      "\u001b[1;31mIndexError\u001b[0m                                Traceback (most recent call last)",
      "\u001b[1;32m~\\AppData\\Local\\Temp/ipykernel_12808/1425514573.py\u001b[0m in \u001b[0;36m<module>\u001b[1;34m\u001b[0m\n\u001b[0;32m      4\u001b[0m \u001b[1;31m#ans: IndexError.\u001b[0m\u001b[1;33m\u001b[0m\u001b[1;33m\u001b[0m\u001b[0m\n\u001b[0;32m      5\u001b[0m \u001b[0mlist\u001b[0m \u001b[1;33m=\u001b[0m \u001b[1;33m[\u001b[0m\u001b[1;36m1\u001b[0m\u001b[1;33m,\u001b[0m\u001b[1;36m2\u001b[0m\u001b[1;33m,\u001b[0m\u001b[1;36m3\u001b[0m\u001b[1;33m,\u001b[0m\u001b[1;36m4\u001b[0m\u001b[1;33m,\u001b[0m\u001b[1;36m5\u001b[0m\u001b[1;33m,\u001b[0m\u001b[1;36m6\u001b[0m\u001b[1;33m,\u001b[0m\u001b[1;36m7\u001b[0m\u001b[1;33m,\u001b[0m\u001b[1;36m8\u001b[0m\u001b[1;33m,\u001b[0m\u001b[1;36m9\u001b[0m\u001b[1;33m,\u001b[0m\u001b[1;36m10\u001b[0m\u001b[1;33m]\u001b[0m\u001b[1;33m\u001b[0m\u001b[1;33m\u001b[0m\u001b[0m\n\u001b[1;32m----> 6\u001b[1;33m \u001b[0mprint\u001b[0m\u001b[1;33m(\u001b[0m\u001b[0mlist\u001b[0m\u001b[1;33m[\u001b[0m\u001b[1;36m11\u001b[0m\u001b[1;33m]\u001b[0m\u001b[1;33m)\u001b[0m\u001b[1;33m\u001b[0m\u001b[1;33m\u001b[0m\u001b[0m\n\u001b[0m\u001b[0;32m      7\u001b[0m \u001b[1;33m\u001b[0m\u001b[0m\n\u001b[0;32m      8\u001b[0m \u001b[1;31m#above code execution gives IndexError\u001b[0m\u001b[1;33m\u001b[0m\u001b[1;33m\u001b[0m\u001b[0m\n",
      "\u001b[1;31mIndexError\u001b[0m: list index out of range"
     ]
    }
   ],
   "source": [
    "#Question 9:\n",
    "\n",
    "#b: Referring to the 12th item of a list that has only 10 items\n",
    "#ans: IndexError. \n",
    "list = [1,2,3,4,5,6,7,8,9,10]\n",
    "print(list[11])\n"
   ]
  },
  {
   "cell_type": "code",
   "execution_count": 16,
   "id": "a25540a4",
   "metadata": {},
   "outputs": [
    {
     "ename": "ValueError",
     "evalue": "math domain error",
     "output_type": "error",
     "traceback": [
      "\u001b[1;31m---------------------------------------------------------------------------\u001b[0m",
      "\u001b[1;31mValueError\u001b[0m                                Traceback (most recent call last)",
      "\u001b[1;32m~\\AppData\\Local\\Temp/ipykernel_12808/3694048746.py\u001b[0m in \u001b[0;36m<module>\u001b[1;34m\u001b[0m\n\u001b[0;32m      4\u001b[0m \u001b[1;31m#ans: ValueError.\u001b[0m\u001b[1;33m\u001b[0m\u001b[1;33m\u001b[0m\u001b[0m\n\u001b[0;32m      5\u001b[0m \u001b[1;32mimport\u001b[0m \u001b[0mmath\u001b[0m\u001b[1;33m\u001b[0m\u001b[1;33m\u001b[0m\u001b[0m\n\u001b[1;32m----> 6\u001b[1;33m \u001b[0msquareroot\u001b[0m \u001b[1;33m=\u001b[0m \u001b[0mmath\u001b[0m\u001b[1;33m.\u001b[0m\u001b[0msqrt\u001b[0m\u001b[1;33m(\u001b[0m\u001b[1;33m-\u001b[0m\u001b[1;36m1.0\u001b[0m\u001b[1;33m)\u001b[0m\u001b[1;33m\u001b[0m\u001b[1;33m\u001b[0m\u001b[0m\n\u001b[0m\u001b[0;32m      7\u001b[0m \u001b[1;33m\u001b[0m\u001b[0m\n\u001b[0;32m      8\u001b[0m \u001b[1;31m#above code execution gives ValueError\u001b[0m\u001b[1;33m\u001b[0m\u001b[1;33m\u001b[0m\u001b[0m\n",
      "\u001b[1;31mValueError\u001b[0m: math domain error"
     ]
    }
   ],
   "source": [
    "#Question 9:\n",
    "\n",
    "#c:Using a value that is out of range for a function’s input, such as calling math.sqrt(-1.0)\n",
    "#ans: ValueError.\n",
    "import math\n",
    "squareroot = math.sqrt(-1.0)\n",
    "\n"
   ]
  },
  {
   "cell_type": "code",
   "execution_count": 17,
   "id": "8dc89868",
   "metadata": {},
   "outputs": [
    {
     "ename": "NameError",
     "evalue": "name 'var' is not defined",
     "output_type": "error",
     "traceback": [
      "\u001b[1;31m---------------------------------------------------------------------------\u001b[0m",
      "\u001b[1;31mNameError\u001b[0m                                 Traceback (most recent call last)",
      "\u001b[1;32m~\\AppData\\Local\\Temp/ipykernel_12808/2041488939.py\u001b[0m in \u001b[0;36m<module>\u001b[1;34m\u001b[0m\n\u001b[0;32m      4\u001b[0m \u001b[1;31m#ans: NameError.\u001b[0m\u001b[1;33m\u001b[0m\u001b[1;33m\u001b[0m\u001b[0m\n\u001b[0;32m      5\u001b[0m \u001b[1;33m\u001b[0m\u001b[0m\n\u001b[1;32m----> 6\u001b[1;33m \u001b[0mprint\u001b[0m\u001b[1;33m(\u001b[0m\u001b[0mvar\u001b[0m\u001b[1;33m)\u001b[0m\u001b[1;33m\u001b[0m\u001b[1;33m\u001b[0m\u001b[0m\n\u001b[0m",
      "\u001b[1;31mNameError\u001b[0m: name 'var' is not defined"
     ]
    }
   ],
   "source": [
    "#Question 9:\n",
    "\n",
    "#d: Using an undeclared variable, such as print(x) when x has not been defined\n",
    "#ans: NameError. \n",
    "\n",
    "print(var)\n"
   ]
  },
  {
   "cell_type": "code",
   "execution_count": 18,
   "id": "11253bac",
   "metadata": {},
   "outputs": [
    {
     "ename": "FileNotFoundError",
     "evalue": "[Errno 2] No such file or directory: 'rohtivarma.txt'",
     "output_type": "error",
     "traceback": [
      "\u001b[1;31m---------------------------------------------------------------------------\u001b[0m",
      "\u001b[1;31mFileNotFoundError\u001b[0m                         Traceback (most recent call last)",
      "\u001b[1;32m~\\AppData\\Local\\Temp/ipykernel_12808/3373136704.py\u001b[0m in \u001b[0;36m<module>\u001b[1;34m\u001b[0m\n\u001b[0;32m      4\u001b[0m \u001b[1;31m#ans: FileNotFoundError.\u001b[0m\u001b[1;33m\u001b[0m\u001b[1;33m\u001b[0m\u001b[0m\n\u001b[0;32m      5\u001b[0m \u001b[1;33m\u001b[0m\u001b[0m\n\u001b[1;32m----> 6\u001b[1;33m \u001b[0mfile\u001b[0m \u001b[1;33m=\u001b[0m \u001b[0mopen\u001b[0m\u001b[1;33m(\u001b[0m\u001b[1;34m\"rohtivarma.txt\"\u001b[0m\u001b[1;33m)\u001b[0m\u001b[1;33m\u001b[0m\u001b[1;33m\u001b[0m\u001b[0m\n\u001b[0m\u001b[0;32m      7\u001b[0m \u001b[1;33m\u001b[0m\u001b[0m\n\u001b[0;32m      8\u001b[0m \u001b[1;33m\u001b[0m\u001b[0m\n",
      "\u001b[1;31mFileNotFoundError\u001b[0m: [Errno 2] No such file or directory: 'rohtivarma.txt'"
     ]
    }
   ],
   "source": [
    "#Question 9:\n",
    "\n",
    "#e: Trying to open a file that does not exist, such as mistyping the file name or looking in the wrong directory.\n",
    "#ans: FileNotFoundError. \n",
    "\n",
    "file = open(\"rohtivarma.txt\")\n",
    "\n"
   ]
  },
  {
   "cell_type": "code",
   "execution_count": 19,
   "id": "6c64434f",
   "metadata": {},
   "outputs": [
    {
     "data": {
      "text/plain": [
       "[1, 1, 1, 3, 5, 1, 1, 2, 1, 0, 1, 0, 1, 2, 4, 0, 1, 2, 0, 3, 1, 0, 1, 1, 0]"
      ]
     },
     "execution_count": 19,
     "metadata": {},
     "output_type": "execute_result"
    }
   ],
   "source": [
    "def freq(string):\n",
    "    Alphabets = \"ABCDEFGHIJKLMNOPQRSTUVWXYZ\"\n",
    "    upperstring= string.upper()\n",
    "    VarCount=[]\n",
    "    for i in range(len(Alphabets)-1):\n",
    "        VarCount.append((upperstring.count(Alphabets[i])))\n",
    "    return VarCount\n",
    "\n",
    "#Function freq(string) returns a list of integers for input string\n",
    "freq(\"The quick red fox got bored and went home\")\n"
   ]
  },
  {
   "cell_type": "code",
   "execution_count": null,
   "id": "f9db24e0",
   "metadata": {},
   "outputs": [],
   "source": []
  }
 ],
 "metadata": {
  "kernelspec": {
   "display_name": "Python 3 (ipykernel)",
   "language": "python",
   "name": "python3"
  },
  "language_info": {
   "codemirror_mode": {
    "name": "ipython",
    "version": 3
   },
   "file_extension": ".py",
   "mimetype": "text/x-python",
   "name": "python",
   "nbconvert_exporter": "python",
   "pygments_lexer": "ipython3",
   "version": "3.9.7"
  }
 },
 "nbformat": 4,
 "nbformat_minor": 5
}
